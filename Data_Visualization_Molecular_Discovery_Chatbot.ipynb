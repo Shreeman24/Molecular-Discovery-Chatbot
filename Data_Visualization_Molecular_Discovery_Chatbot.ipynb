{
  "nbformat": 4,
  "nbformat_minor": 0,
  "metadata": {
    "colab": {
      "provenance": []
    },
    "kernelspec": {
      "name": "python3",
      "display_name": "Python 3"
    },
    "language_info": {
      "name": "python"
    }
  },
  "cells": [
    {
      "cell_type": "code",
      "execution_count": null,
      "metadata": {
        "colab": {
          "base_uri": "https://localhost:8080/"
        },
        "id": "wQN_mH-KeBVC",
        "outputId": "812e6588-2b5f-4227-c96a-57cb1625b30e"
      },
      "outputs": [
        {
          "output_type": "stream",
          "name": "stdout",
          "text": [
            "Collecting py3Dmol\n",
            "  Downloading py3Dmol-2.1.0-py2.py3-none-any.whl (12 kB)\n",
            "Collecting rdkit\n",
            "  Downloading rdkit-2023.9.5-cp310-cp310-manylinux_2_17_x86_64.manylinux2014_x86_64.whl (34.4 MB)\n",
            "\u001b[2K     \u001b[90m━━━━━━━━━━━━━━━━━━━━━━━━━━━━━━━━━━━━━━━━\u001b[0m \u001b[32m34.4/34.4 MB\u001b[0m \u001b[31m19.6 MB/s\u001b[0m eta \u001b[36m0:00:00\u001b[0m\n",
            "\u001b[?25hRequirement already satisfied: numpy in /usr/local/lib/python3.10/dist-packages (from rdkit) (1.25.2)\n",
            "Requirement already satisfied: Pillow in /usr/local/lib/python3.10/dist-packages (from rdkit) (9.4.0)\n",
            "Installing collected packages: py3Dmol, rdkit\n",
            "Successfully installed py3Dmol-2.1.0 rdkit-2023.9.5\n"
          ]
        }
      ],
      "source": [
        "!pip install py3Dmol rdkit"
      ]
    },
    {
      "cell_type": "markdown",
      "source": [
        "<h2><b> The data visualization utilizes Py3DMol. generates the 2D visualizations from SMILES and converts SMILES to PDB to generate 3D visualizations. The overall file (with chatbot) adapts this code using\n",
        "MolViewSpec for 3D visualization for Streamlit. </b></h2>"
      ],
      "metadata": {
        "id": "Vu2R4mCgEQs6"
      }
    },
    {
      "cell_type": "code",
      "source": [
        "from rdkit.Chem import AllChem\n",
        "import py3Dmol\n",
        "from rdkit import Chem"
      ],
      "metadata": {
        "id": "cunBWYv3eKCf"
      },
      "execution_count": null,
      "outputs": []
    },
    {
      "cell_type": "markdown",
      "source": [
        "# Generate PDB file from SMILES sequence"
      ],
      "metadata": {
        "id": "bDiVmsr-hETW"
      }
    },
    {
      "cell_type": "code",
      "source": [
        "def smiles_to_pdb(smiles, output_pdb):\n",
        "    mol = Chem.MolFromSmiles(smiles)\n",
        "\n",
        "    if mol is not None:\n",
        "        AllChem.EmbedMolecule(mol)\n",
        "        AllChem.MMFFOptimizeMolecule(mol)\n",
        "\n",
        "        writer = Chem.PDBWriter(output_pdb)\n",
        "        writer.write(mol)\n",
        "        writer.close()\n",
        "\n",
        "        print(f\"PDB File '{output_pdb}' generated successfully.\")\n",
        "    else:\n",
        "        print(\"Failed to generate 3D structure from SMILES\")"
      ],
      "metadata": {
        "colab": {
          "base_uri": "https://localhost:8080/"
        },
        "id": "rjO6PiJkhBdv",
        "outputId": "89435642-1944-45f9-9dcf-ceb946820d39"
      },
      "execution_count": null,
      "outputs": [
        {
          "output_type": "stream",
          "name": "stdout",
          "text": [
            "PDB File 'output_structure.pdb' generated successfully.\n"
          ]
        },
        {
          "output_type": "stream",
          "name": "stderr",
          "text": [
            "[19:07:21] Molecule does not have explicit Hs. Consider calling AddHs()\n",
            "[19:07:21] Molecule does not have explicit Hs. Consider calling AddHs()\n"
          ]
        }
      ]
    },
    {
      "cell_type": "markdown",
      "source": [
        "# Generate 3D Visualization"
      ],
      "metadata": {
        "id": "tGXggKl-eR5-"
      }
    },
    {
      "cell_type": "code",
      "source": [
        "# Import necessary libraries\n",
        "from rdkit import Chem\n",
        "from rdkit.Chem import AllChem\n",
        "import py3Dmol\n",
        "\n",
        "# Generate Mol File describing 3D Structure from SMILES notation\n",
        "def generate_3d_structure(smiles):\n",
        "    # Convert SMILES to RDKit molecule object\n",
        "    mol = Chem.MolFromSmiles(smiles)\n",
        "    # Add hydrogen atoms to the molecule\n",
        "    mol = Chem.AddHs(mol)\n",
        "    # Embed the molecule in 3D space (randomSeed=42 for reproducibility)\n",
        "    AllChem.EmbedMolecule(mol, randomSeed=42)\n",
        "    return mol\n",
        "\n",
        "# Visualize 3D structure from file\n",
        "def visualize_3d_structure(file_name):\n",
        "    # Create a py3Dmol view\n",
        "    view = py3Dmol.view()\n",
        "    # Add the 3D structure model from the specified PDB file\n",
        "    view.addModel(open(file_name, 'r').read(), 'pdb')\n",
        "    # Set the background color to white\n",
        "    view.setBackgroundColor('white')\n",
        "    # Style the cartoon representation of the molecule (chain A, color purple)\n",
        "    view.setStyle({'chain': 'A'}, {'cartoon': {'color': 'purple'}})\n",
        "    # Style the stick representation of specific residues (resn: UH7, color: yellow)\n",
        "    view.addStyle({'resn': 'UH7'}, {'stick': {'colorscheme': 'yellowCarbon'}})\n",
        "    # Style the sticks for atoms within a certain distance of UH7 residues\n",
        "    view.addStyle({'within': {'distance': '5', 'sel': {'resn': 'UH7'}}}, {'stick': {}})\n",
        "    # Add a semi-transparent surface representation (excluding UH7 and DMS residues)\n",
        "    view.addSurface(py3Dmol.VDW, {'opacity': 0.3, 'color': 'grey'},\n",
        "                    {'not': {'or': [{'resn': 'UH7'}, {'resn': 'DMS'}]}})\n",
        "    # Zoom to fit the structure\n",
        "    view.zoomTo()\n",
        "    # Show the visualization\n",
        "    view.show()\n",
        "\n",
        "# Visualize the 3D structure from the specified PDB file\n",
        "# visualize_3d_structure('output_structure.pdb')\n",
        "\n",
        "\n",
        "# Can we select multiple atoms in the 3D/2D. Can it select a fragment when clicked so I can replace certain functional groups for better property."
      ],
      "metadata": {
        "colab": {
          "base_uri": "https://localhost:8080/",
          "height": 497
        },
        "id": "9SqXu82NeH1_",
        "outputId": "d10cbba3-a4a2-4306-dc64-6f7ef6efab00"
      },
      "execution_count": null,
      "outputs": [
        {
          "output_type": "display_data",
          "data": {
            "application/3dmoljs_load.v0": "<div id=\"3dmolviewer_17108752415356455\"  style=\"position: relative; width: 640px; height: 480px;\">\n        <p id=\"3dmolwarning_17108752415356455\" style=\"background-color:#ffcccc;color:black\">3Dmol.js failed to load for some reason.  Please check your browser console for error messages.<br></p>\n        </div>\n<script>\n\nvar loadScriptAsync = function(uri){\n  return new Promise((resolve, reject) => {\n    //this is to ignore the existence of requirejs amd\n    var savedexports, savedmodule;\n    if (typeof exports !== 'undefined') savedexports = exports;\n    else exports = {}\n    if (typeof module !== 'undefined') savedmodule = module;\n    else module = {}\n\n    var tag = document.createElement('script');\n    tag.src = uri;\n    tag.async = true;\n    tag.onload = () => {\n        exports = savedexports;\n        module = savedmodule;\n        resolve();\n    };\n  var firstScriptTag = document.getElementsByTagName('script')[0];\n  firstScriptTag.parentNode.insertBefore(tag, firstScriptTag);\n});\n};\n\nif(typeof $3Dmolpromise === 'undefined') {\n$3Dmolpromise = null;\n  $3Dmolpromise = loadScriptAsync('https://cdnjs.cloudflare.com/ajax/libs/3Dmol/2.1.0/3Dmol-min.js');\n}\n\nvar viewer_17108752415356455 = null;\nvar warn = document.getElementById(\"3dmolwarning_17108752415356455\");\nif(warn) {\n    warn.parentNode.removeChild(warn);\n}\n$3Dmolpromise.then(function() {\nviewer_17108752415356455 = $3Dmol.createViewer(document.getElementById(\"3dmolviewer_17108752415356455\"),{backgroundColor:\"white\"});\nviewer_17108752415356455.zoomTo();\n\tviewer_17108752415356455.addModel(\"HETATM    1  C1  UNL     1       2.875  -1.948   0.770  1.00  0.00           C  \\nHETATM    2  C2  UNL     1       1.452  -1.494   0.724  1.00  0.00           C  \\nHETATM    3  O1  UNL     1       0.661  -1.594   1.653  1.00  0.00           O  \\nHETATM    4  O2  UNL     1       1.195  -0.961  -0.531  1.00  0.00           O  \\nHETATM    5  C3  UNL     1      -0.102  -0.453  -0.623  1.00  0.00           C  \\nHETATM    6  C4  UNL     1      -1.042  -1.255  -1.274  1.00  0.00           C  \\nHETATM    7  C5  UNL     1      -2.350  -0.804  -1.419  1.00  0.00           C  \\nHETATM    8  C6  UNL     1      -2.713   0.447  -0.926  1.00  0.00           C  \\nHETATM    9  C7  UNL     1      -1.765   1.253  -0.297  1.00  0.00           C  \\nHETATM   10  C8  UNL     1      -0.448   0.816  -0.143  1.00  0.00           C  \\nHETATM   11  C9  UNL     1       0.547   1.705   0.497  1.00  0.00           C  \\nHETATM   12  O3  UNL     1       1.749   1.499   0.541  1.00  0.00           O  \\nHETATM   13  O4  UNL     1      -0.059   2.791   1.028  1.00  0.00           O  \\nCONECT    1    2\\nCONECT    2    3    3    4\\nCONECT    4    5\\nCONECT    5    6    6   10\\nCONECT    6    7\\nCONECT    7    8    8\\nCONECT    8    9\\nCONECT    9   10   10\\nCONECT   10   11\\nCONECT   11   12   12   13\\nEND\\n\",\"pdb\");\n\tviewer_17108752415356455.setBackgroundColor(\"white\");\n\tviewer_17108752415356455.setStyle({\"chain\": \"A\"},{\"cartoon\": {\"color\": \"purple\"}});\n\tviewer_17108752415356455.addStyle({\"resn\": \"UH7\"},{\"stick\": {\"colorscheme\": \"yellowCarbon\"}});\n\tviewer_17108752415356455.addStyle({\"within\": {\"distance\": \"5\", \"sel\": {\"resn\": \"UH7\"}}},{\"stick\": {}});\n\tviewer_17108752415356455.addSurface(1,{\"opacity\": 0.3, \"color\": \"grey\"},{\"not\": {\"or\": [{\"resn\": \"UH7\"}, {\"resn\": \"DMS\"}]}});\n\tviewer_17108752415356455.zoomTo();\nviewer_17108752415356455.render();\n});\n</script>",
            "text/html": [
              "<div id=\"3dmolviewer_17108752415356455\"  style=\"position: relative; width: 640px; height: 480px;\">\n",
              "        <p id=\"3dmolwarning_17108752415356455\" style=\"background-color:#ffcccc;color:black\">3Dmol.js failed to load for some reason.  Please check your browser console for error messages.<br></p>\n",
              "        </div>\n",
              "<script>\n",
              "\n",
              "var loadScriptAsync = function(uri){\n",
              "  return new Promise((resolve, reject) => {\n",
              "    //this is to ignore the existence of requirejs amd\n",
              "    var savedexports, savedmodule;\n",
              "    if (typeof exports !== 'undefined') savedexports = exports;\n",
              "    else exports = {}\n",
              "    if (typeof module !== 'undefined') savedmodule = module;\n",
              "    else module = {}\n",
              "\n",
              "    var tag = document.createElement('script');\n",
              "    tag.src = uri;\n",
              "    tag.async = true;\n",
              "    tag.onload = () => {\n",
              "        exports = savedexports;\n",
              "        module = savedmodule;\n",
              "        resolve();\n",
              "    };\n",
              "  var firstScriptTag = document.getElementsByTagName('script')[0];\n",
              "  firstScriptTag.parentNode.insertBefore(tag, firstScriptTag);\n",
              "});\n",
              "};\n",
              "\n",
              "if(typeof $3Dmolpromise === 'undefined') {\n",
              "$3Dmolpromise = null;\n",
              "  $3Dmolpromise = loadScriptAsync('https://cdnjs.cloudflare.com/ajax/libs/3Dmol/2.1.0/3Dmol-min.js');\n",
              "}\n",
              "\n",
              "var viewer_17108752415356455 = null;\n",
              "var warn = document.getElementById(\"3dmolwarning_17108752415356455\");\n",
              "if(warn) {\n",
              "    warn.parentNode.removeChild(warn);\n",
              "}\n",
              "$3Dmolpromise.then(function() {\n",
              "viewer_17108752415356455 = $3Dmol.createViewer(document.getElementById(\"3dmolviewer_17108752415356455\"),{backgroundColor:\"white\"});\n",
              "viewer_17108752415356455.zoomTo();\n",
              "\tviewer_17108752415356455.addModel(\"HETATM    1  C1  UNL     1       2.875  -1.948   0.770  1.00  0.00           C  \\nHETATM    2  C2  UNL     1       1.452  -1.494   0.724  1.00  0.00           C  \\nHETATM    3  O1  UNL     1       0.661  -1.594   1.653  1.00  0.00           O  \\nHETATM    4  O2  UNL     1       1.195  -0.961  -0.531  1.00  0.00           O  \\nHETATM    5  C3  UNL     1      -0.102  -0.453  -0.623  1.00  0.00           C  \\nHETATM    6  C4  UNL     1      -1.042  -1.255  -1.274  1.00  0.00           C  \\nHETATM    7  C5  UNL     1      -2.350  -0.804  -1.419  1.00  0.00           C  \\nHETATM    8  C6  UNL     1      -2.713   0.447  -0.926  1.00  0.00           C  \\nHETATM    9  C7  UNL     1      -1.765   1.253  -0.297  1.00  0.00           C  \\nHETATM   10  C8  UNL     1      -0.448   0.816  -0.143  1.00  0.00           C  \\nHETATM   11  C9  UNL     1       0.547   1.705   0.497  1.00  0.00           C  \\nHETATM   12  O3  UNL     1       1.749   1.499   0.541  1.00  0.00           O  \\nHETATM   13  O4  UNL     1      -0.059   2.791   1.028  1.00  0.00           O  \\nCONECT    1    2\\nCONECT    2    3    3    4\\nCONECT    4    5\\nCONECT    5    6    6   10\\nCONECT    6    7\\nCONECT    7    8    8\\nCONECT    8    9\\nCONECT    9   10   10\\nCONECT   10   11\\nCONECT   11   12   12   13\\nEND\\n\",\"pdb\");\n",
              "\tviewer_17108752415356455.setBackgroundColor(\"white\");\n",
              "\tviewer_17108752415356455.setStyle({\"chain\": \"A\"},{\"cartoon\": {\"color\": \"purple\"}});\n",
              "\tviewer_17108752415356455.addStyle({\"resn\": \"UH7\"},{\"stick\": {\"colorscheme\": \"yellowCarbon\"}});\n",
              "\tviewer_17108752415356455.addStyle({\"within\": {\"distance\": \"5\", \"sel\": {\"resn\": \"UH7\"}}},{\"stick\": {}});\n",
              "\tviewer_17108752415356455.addSurface(1,{\"opacity\": 0.3, \"color\": \"grey\"},{\"not\": {\"or\": [{\"resn\": \"UH7\"}, {\"resn\": \"DMS\"}]}});\n",
              "\tviewer_17108752415356455.zoomTo();\n",
              "viewer_17108752415356455.render();\n",
              "});\n",
              "</script>"
            ]
          },
          "metadata": {}
        }
      ]
    },
    {
      "cell_type": "markdown",
      "source": [
        "# Generate 2D Visualization"
      ],
      "metadata": {
        "id": "2WWDFenHeU9j"
      }
    },
    {
      "cell_type": "code",
      "source": [
        "from rdkit import Chem\n",
        "from rdkit.Chem import AllChem\n",
        "import py3Dmol\n",
        "\n",
        "# Function to generate 2D structure from SMILES notation\n",
        "def generate_2d_structure(smiles):\n",
        "    # Convert SMILES to RDKit molecule object\n",
        "    mol = Chem.MolFromSmiles(smiles)\n",
        "    # Add hydrogen atoms to the molecule\n",
        "    mol = Chem.AddHs(mol)\n",
        "    # Compute 2D coordinates for the molecule\n",
        "    AllChem.Compute2DCoords(mol)\n",
        "    return mol\n",
        "\n",
        "# Function to visualize 2D structure using py3Dmol\n",
        "def visualize_2d_structure(smiles):\n",
        "    molecule_mol = generate_2d_structure_smiles(smiles)\n",
        "    # Create a py3Dmol view with specified width and height\n",
        "    view = py3Dmol.view(width=400, height=400)\n",
        "    # Convert the RDKit molecule to MOL block format\n",
        "    block = Chem.MolToMolBlock(molecule_mol)\n",
        "    # Add the 2D structure model to the view\n",
        "    view.addModel(block, 'mol')\n",
        "    # Set the style to display sticks\n",
        "    view.setStyle({'stick': {}})\n",
        "    # Set the background color to white\n",
        "    view.setBackgroundColor('white')\n",
        "    # Zoom to fit the structure\n",
        "    view.zoomTo()\n",
        "    # Show the visualization\n",
        "    view.show()\n",
        "\n",
        "# Generate 2D Structure from SMILES\n",
        "# molecule_smiles = \"CC(=O)OC1=CC=CC=C1C(=O)O\"\n",
        "# molecule_mol = generate_2d_structure(molecule_smiles)\n",
        "\n",
        "# Visualize the 2D structure\n",
        "# visualize_2d_structure(molecule_mol)"
      ],
      "metadata": {
        "colab": {
          "base_uri": "https://localhost:8080/",
          "height": 417
        },
        "id": "_Z1qEUH9eReT",
        "outputId": "0a74d280-49cc-480d-aea5-0ccb741dfdf4"
      },
      "execution_count": null,
      "outputs": [
        {
          "output_type": "display_data",
          "data": {
            "application/3dmoljs_load.v0": "<div id=\"3dmolviewer_1710875241556707\"  style=\"position: relative; width: 400px; height: 400px;\">\n        <p id=\"3dmolwarning_1710875241556707\" style=\"background-color:#ffcccc;color:black\">3Dmol.js failed to load for some reason.  Please check your browser console for error messages.<br></p>\n        </div>\n<script>\n\nvar loadScriptAsync = function(uri){\n  return new Promise((resolve, reject) => {\n    //this is to ignore the existence of requirejs amd\n    var savedexports, savedmodule;\n    if (typeof exports !== 'undefined') savedexports = exports;\n    else exports = {}\n    if (typeof module !== 'undefined') savedmodule = module;\n    else module = {}\n\n    var tag = document.createElement('script');\n    tag.src = uri;\n    tag.async = true;\n    tag.onload = () => {\n        exports = savedexports;\n        module = savedmodule;\n        resolve();\n    };\n  var firstScriptTag = document.getElementsByTagName('script')[0];\n  firstScriptTag.parentNode.insertBefore(tag, firstScriptTag);\n});\n};\n\nif(typeof $3Dmolpromise === 'undefined') {\n$3Dmolpromise = null;\n  $3Dmolpromise = loadScriptAsync('https://cdnjs.cloudflare.com/ajax/libs/3Dmol/2.1.0/3Dmol-min.js');\n}\n\nvar viewer_1710875241556707 = null;\nvar warn = document.getElementById(\"3dmolwarning_1710875241556707\");\nif(warn) {\n    warn.parentNode.removeChild(warn);\n}\n$3Dmolpromise.then(function() {\nviewer_1710875241556707 = $3Dmol.createViewer(document.getElementById(\"3dmolviewer_1710875241556707\"),{backgroundColor:\"white\"});\nviewer_1710875241556707.zoomTo();\n\tviewer_1710875241556707.addModel(\"\\n     RDKit          2D\\n\\n 21 21  0  0  0  0  0  0  0  0999 V2000\\n   -3.8551   -0.4172    0.0000 C   0  0  0  0  0  0  0  0  0  0  0  0\\n   -2.5270    0.2801    0.0000 C   0  0  0  0  0  0  0  0  0  0  0  0\\n   -2.4669    1.7789    0.0000 O   0  0  0  0  0  0  0  0  0  0  0  0\\n   -1.2591   -0.5214    0.0000 O   0  0  0  0  0  0  0  0  0  0  0  0\\n    0.0690    0.1759    0.0000 C   0  0  0  0  0  0  0  0  0  0  0  0\\n    0.1291    1.6747    0.0000 C   0  0  0  0  0  0  0  0  0  0  0  0\\n    1.4572    2.3721    0.0000 C   0  0  0  0  0  0  0  0  0  0  0  0\\n    2.7251    1.5706    0.0000 C   0  0  0  0  0  0  0  0  0  0  0  0\\n    2.6650    0.0718    0.0000 C   0  0  0  0  0  0  0  0  0  0  0  0\\n    1.3369   -0.6255    0.0000 C   0  0  0  0  0  0  0  0  0  0  0  0\\n    1.2768   -2.1243    0.0000 C   0  0  0  0  0  0  0  0  0  0  0  0\\n   -0.0513   -2.8216    0.0000 O   0  0  0  0  0  0  0  0  0  0  0  0\\n    2.5447   -2.9258    0.0000 O   0  0  0  0  0  0  0  0  0  0  0  0\\n   -5.1831   -1.1145    0.0000 H   0  0  0  0  0  0  0  0  0  0  0  0\\n   -4.5524    0.9108    0.0000 H   0  0  0  0  0  0  0  0  0  0  0  0\\n   -3.1578   -1.7453    0.0000 H   0  0  0  0  0  0  0  0  0  0  0  0\\n   -1.1388    2.4762    0.0000 H   0  0  0  0  0  0  0  0  0  0  0  0\\n    1.5173    3.8709    0.0000 H   0  0  0  0  0  0  0  0  0  0  0  0\\n    4.0531    2.2679    0.0000 H   0  0  0  0  0  0  0  0  0  0  0  0\\n    3.9329   -0.7297    0.0000 H   0  0  0  0  0  0  0  0  0  0  0  0\\n    2.4846   -4.4246    0.0000 H   0  0  0  0  0  0  0  0  0  0  0  0\\n  1  2  1  0\\n  2  3  2  0\\n  2  4  1  0\\n  4  5  1  0\\n  5  6  2  0\\n  6  7  1  0\\n  7  8  2  0\\n  8  9  1  0\\n  9 10  2  0\\n 10 11  1  0\\n 11 12  2  0\\n 11 13  1  0\\n 10  5  1  0\\n  1 14  1  0\\n  1 15  1  0\\n  1 16  1  0\\n  6 17  1  0\\n  7 18  1  0\\n  8 19  1  0\\n  9 20  1  0\\n 13 21  1  0\\nM  END\\n\",\"mol\");\n\tviewer_1710875241556707.setStyle({\"stick\": {}});\n\tviewer_1710875241556707.setBackgroundColor(\"white\");\n\tviewer_1710875241556707.zoomTo();\nviewer_1710875241556707.render();\n});\n</script>",
            "text/html": [
              "<div id=\"3dmolviewer_1710875241556707\"  style=\"position: relative; width: 400px; height: 400px;\">\n",
              "        <p id=\"3dmolwarning_1710875241556707\" style=\"background-color:#ffcccc;color:black\">3Dmol.js failed to load for some reason.  Please check your browser console for error messages.<br></p>\n",
              "        </div>\n",
              "<script>\n",
              "\n",
              "var loadScriptAsync = function(uri){\n",
              "  return new Promise((resolve, reject) => {\n",
              "    //this is to ignore the existence of requirejs amd\n",
              "    var savedexports, savedmodule;\n",
              "    if (typeof exports !== 'undefined') savedexports = exports;\n",
              "    else exports = {}\n",
              "    if (typeof module !== 'undefined') savedmodule = module;\n",
              "    else module = {}\n",
              "\n",
              "    var tag = document.createElement('script');\n",
              "    tag.src = uri;\n",
              "    tag.async = true;\n",
              "    tag.onload = () => {\n",
              "        exports = savedexports;\n",
              "        module = savedmodule;\n",
              "        resolve();\n",
              "    };\n",
              "  var firstScriptTag = document.getElementsByTagName('script')[0];\n",
              "  firstScriptTag.parentNode.insertBefore(tag, firstScriptTag);\n",
              "});\n",
              "};\n",
              "\n",
              "if(typeof $3Dmolpromise === 'undefined') {\n",
              "$3Dmolpromise = null;\n",
              "  $3Dmolpromise = loadScriptAsync('https://cdnjs.cloudflare.com/ajax/libs/3Dmol/2.1.0/3Dmol-min.js');\n",
              "}\n",
              "\n",
              "var viewer_1710875241556707 = null;\n",
              "var warn = document.getElementById(\"3dmolwarning_1710875241556707\");\n",
              "if(warn) {\n",
              "    warn.parentNode.removeChild(warn);\n",
              "}\n",
              "$3Dmolpromise.then(function() {\n",
              "viewer_1710875241556707 = $3Dmol.createViewer(document.getElementById(\"3dmolviewer_1710875241556707\"),{backgroundColor:\"white\"});\n",
              "viewer_1710875241556707.zoomTo();\n",
              "\tviewer_1710875241556707.addModel(\"\\n     RDKit          2D\\n\\n 21 21  0  0  0  0  0  0  0  0999 V2000\\n   -3.8551   -0.4172    0.0000 C   0  0  0  0  0  0  0  0  0  0  0  0\\n   -2.5270    0.2801    0.0000 C   0  0  0  0  0  0  0  0  0  0  0  0\\n   -2.4669    1.7789    0.0000 O   0  0  0  0  0  0  0  0  0  0  0  0\\n   -1.2591   -0.5214    0.0000 O   0  0  0  0  0  0  0  0  0  0  0  0\\n    0.0690    0.1759    0.0000 C   0  0  0  0  0  0  0  0  0  0  0  0\\n    0.1291    1.6747    0.0000 C   0  0  0  0  0  0  0  0  0  0  0  0\\n    1.4572    2.3721    0.0000 C   0  0  0  0  0  0  0  0  0  0  0  0\\n    2.7251    1.5706    0.0000 C   0  0  0  0  0  0  0  0  0  0  0  0\\n    2.6650    0.0718    0.0000 C   0  0  0  0  0  0  0  0  0  0  0  0\\n    1.3369   -0.6255    0.0000 C   0  0  0  0  0  0  0  0  0  0  0  0\\n    1.2768   -2.1243    0.0000 C   0  0  0  0  0  0  0  0  0  0  0  0\\n   -0.0513   -2.8216    0.0000 O   0  0  0  0  0  0  0  0  0  0  0  0\\n    2.5447   -2.9258    0.0000 O   0  0  0  0  0  0  0  0  0  0  0  0\\n   -5.1831   -1.1145    0.0000 H   0  0  0  0  0  0  0  0  0  0  0  0\\n   -4.5524    0.9108    0.0000 H   0  0  0  0  0  0  0  0  0  0  0  0\\n   -3.1578   -1.7453    0.0000 H   0  0  0  0  0  0  0  0  0  0  0  0\\n   -1.1388    2.4762    0.0000 H   0  0  0  0  0  0  0  0  0  0  0  0\\n    1.5173    3.8709    0.0000 H   0  0  0  0  0  0  0  0  0  0  0  0\\n    4.0531    2.2679    0.0000 H   0  0  0  0  0  0  0  0  0  0  0  0\\n    3.9329   -0.7297    0.0000 H   0  0  0  0  0  0  0  0  0  0  0  0\\n    2.4846   -4.4246    0.0000 H   0  0  0  0  0  0  0  0  0  0  0  0\\n  1  2  1  0\\n  2  3  2  0\\n  2  4  1  0\\n  4  5  1  0\\n  5  6  2  0\\n  6  7  1  0\\n  7  8  2  0\\n  8  9  1  0\\n  9 10  2  0\\n 10 11  1  0\\n 11 12  2  0\\n 11 13  1  0\\n 10  5  1  0\\n  1 14  1  0\\n  1 15  1  0\\n  1 16  1  0\\n  6 17  1  0\\n  7 18  1  0\\n  8 19  1  0\\n  9 20  1  0\\n 13 21  1  0\\nM  END\\n\",\"mol\");\n",
              "\tviewer_1710875241556707.setStyle({\"stick\": {}});\n",
              "\tviewer_1710875241556707.setBackgroundColor(\"white\");\n",
              "\tviewer_1710875241556707.zoomTo();\n",
              "viewer_1710875241556707.render();\n",
              "});\n",
              "</script>"
            ]
          },
          "metadata": {}
        }
      ]
    },
    {
      "cell_type": "code",
      "source": [],
      "metadata": {
        "id": "1wCmjWWxhVfu"
      },
      "execution_count": null,
      "outputs": []
    }
  ]
}