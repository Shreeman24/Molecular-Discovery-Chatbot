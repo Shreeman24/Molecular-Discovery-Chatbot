{
  "cells": [
    {
      "cell_type": "code",
      "source": [
        "from google.colab import drive\n",
        "drive.mount('/content/drive', force_remount=True)"
      ],
      "metadata": {
        "colab": {
          "base_uri": "https://localhost:8080/"
        },
        "id": "o6W2946nK6il",
        "outputId": "d7893a28-c543-4635-ecef-05c67a494213"
      },
      "execution_count": null,
      "outputs": [
        {
          "output_type": "stream",
          "name": "stdout",
          "text": [
            "Mounted at /content/drive\n"
          ]
        }
      ]
    },
    {
      "cell_type": "markdown",
      "source": [
        "<h2><b> The property prediction (BACE) is an educational assessment for the LLM where we determine BACE inhibit (yes/no) through prompting and determine accuracy values (excluding hallucinations in denominator). </b></h2>\n",
        "\n",
        "---"
      ],
      "metadata": {
        "id": "RZpUcEdV_JLt"
      }
    },
    {
      "cell_type": "markdown",
      "source": [
        "## Install libraries"
      ],
      "metadata": {
        "id": "fiGmhivQ4l7V"
      }
    },
    {
      "cell_type": "code",
      "source": [
        "!pip install openai numpy rdkit steamship langchain ctransformers"
      ],
      "metadata": {
        "id": "e_r7IQM2K995"
      },
      "execution_count": null,
      "outputs": []
    },
    {
      "cell_type": "code",
      "execution_count": null,
      "metadata": {
        "id": "VQOfmsx3Kmhj"
      },
      "outputs": [],
      "source": [
        "import openai\n",
        "import random\n",
        "import pandas as pd\n",
        "from tqdm import tqdm\n",
        "import numpy as np\n",
        "from sklearn.metrics import f1_score,accuracy_score\n",
        "from rdkit import Chem\n",
        "from rdkit.Chem.Scaffolds import MurckoScaffold\n",
        "from rdkit.Chem import DataStructs\n",
        "from rdkit.Chem import rdMolDescriptors\n",
        "from rdkit import Chem\n",
        "import warnings\n",
        "from rdkit import RDLogger\n",
        "from steamship import Steamship\n",
        "import datetime\n",
        "import os"
      ]
    },
    {
      "cell_type": "markdown",
      "metadata": {
        "id": "cHtG7DtNKmhk"
      },
      "source": [
        "## Data preprocessing"
      ]
    },
    {
      "cell_type": "code",
      "execution_count": null,
      "metadata": {
        "id": "u1b8juQnKmhm"
      },
      "outputs": [],
      "source": [
        "random.seed(42)\n",
        "#read bace dataset\n",
        "bace = pd.read_csv(\"/content/drive/MyDrive/LLama2HealthCareChatBot-master/data/Education_data/property_prediction/BACE.csv\")\n",
        "sample_size = 100\n",
        "bace_sample= bace.sample(sample_size)\n",
        "bace.drop(bace_sample.index, inplace = True)"
      ]
    },
    {
      "cell_type": "markdown",
      "source": [
        "## Save sampled dataset"
      ],
      "metadata": {
        "id": "C2paYLsW447L"
      }
    },
    {
      "cell_type": "code",
      "execution_count": null,
      "metadata": {
        "colab": {
          "base_uri": "https://localhost:8080/"
        },
        "id": "PnyuAOneKmhn",
        "outputId": "6108fd0d-311d-4d5b-8b2e-27eb166c1bf1"
      },
      "outputs": [
        {
          "output_type": "stream",
          "name": "stdout",
          "text": [
            "Class\n",
            "0    55\n",
            "1    45\n",
            "Name: count, dtype: int64\n"
          ]
        }
      ],
      "source": [
        "##save sampled dataset\n",
        "\n",
        "bace_sample.to_csv(\"/content/BACE_test.csv\",index = False)\n",
        "bace.to_csv(\"/content/BACE_train.csv\",index =False)\n",
        "print(bace_sample['Class'].value_counts())"
      ]
    },
    {
      "cell_type": "markdown",
      "metadata": {
        "id": "TRufdtEPKmho"
      },
      "source": [
        "Sampling strategy: Random sample\n"
      ]
    },
    {
      "cell_type": "code",
      "execution_count": null,
      "metadata": {
        "id": "egdXk08YKmho"
      },
      "outputs": [],
      "source": [
        "# random sampling\n",
        "def random_sample_examples(bace,sample_size):\n",
        "    positive_examples = bace[bace[\"Class\"] == 1].sample(int(sample_size/2))\n",
        "    negative_examples = bace[bace[\"Class\"] == 0].sample(int(sample_size/2))\n",
        "    smiles = positive_examples[\"mol\"].tolist() + negative_examples[\"mol\"].tolist()\n",
        "\n",
        "    class_label = positive_examples[\"Class\"].tolist() + negative_examples[\"Class\"].tolist()\n",
        "    #convert 1 to \"Yes\" and 0 to \"No\"\" in class_label\n",
        "    class_label = [\"Yes\" if i == 1 else \"No\" for i in class_label]\n",
        "    bace_examples = list(zip(smiles, class_label))\n",
        "    return bace_examples"
      ]
    },
    {
      "cell_type": "markdown",
      "metadata": {
        "id": "QfnKJLCWKmhp"
      },
      "source": [
        "## Sampling examples"
      ]
    },
    {
      "cell_type": "code",
      "execution_count": null,
      "metadata": {
        "colab": {
          "base_uri": "https://localhost:8080/"
        },
        "id": "OiftIunhKmhp",
        "outputId": "51e0af01-78d9-483a-8075-e185341dc66c"
      },
      "outputs": [
        {
          "output_type": "stream",
          "name": "stdout",
          "text": [
            "randomly sampling examples [('S(=O)(=O)(N(C)c1cc2cc(c1)C(=O)NC(COC\\\\C=C/CCN(C)C2=O)C(O)C[NH2+]Cc1cc(ccc1)C(C)C)C', 'Yes'), ('S1(=O)(=O)N(c2cc(cc3c2n(cc3CC)CC1)C(=O)NC([C@H](O)C[NH2+]CCF)Cc1ccccc1)C', 'Yes'), ('Fc1ncccc1-c1cc2c(OC(CC23N=C(N)N(C)C3=O)(C)C)cc1', 'No'), ('S(=O)(=O)(N1C(C)=C(C(=O)N[C@H]([C@H](O)C[NH2+]C2CC2)Cc2ccccc2)[C@@H](C)C(C(=O)NOCc2ccccc2)=C1C)C', 'No')]\n"
          ]
        }
      ],
      "source": [
        "sample_size = 4\n",
        "random_examples = random_sample_examples(bace_sample,sample_size)\n",
        "print(\"randomly sampling examples\", random_sample_examples(bace_sample,sample_size))"
      ]
    },
    {
      "cell_type": "markdown",
      "source": [
        "## BACE Prompt"
      ],
      "metadata": {
        "id": "ezxEPlpI4R18"
      }
    },
    {
      "cell_type": "code",
      "source": [
        "def create_bace_prompt_zero_shot(input_smiles):\n",
        "    prompt = \"You are an expert chemist tasked with predicting molecule properties based on chemical structure. Given a molecule's SMILES string, predict if it inhibits (Yes) the Beta-site Amyloid Precursor Protein Cleaving Enzyme 1 (BACE1) or not (No) and provide response as Yes or No.\"\n",
        "    prompt += f\"SMILES: {input_smiles}\\nBACE-1 Inhibit:\\n\"\n",
        "    return prompt"
      ],
      "metadata": {
        "id": "Jn6vCSTpEyun"
      },
      "execution_count": null,
      "outputs": []
    },
    {
      "cell_type": "markdown",
      "source": [
        "## Perform BACE predictions on 30 samples"
      ],
      "metadata": {
        "id": "yWlt6zQU4VPL"
      }
    },
    {
      "cell_type": "code",
      "source": [
        "import time\n",
        "from google.colab import userdata\n",
        "from langchain.llms import CTransformers\n",
        "\n",
        "# Record the start time\n",
        "start_time = time.time()\n",
        "\n",
        "random_examples = random_sample_examples(bace_sample, 30)\n",
        "hf_token = userdata.get('HF_TOKEN')\n",
        "llm = CTransformers(model=\"/content/drive/MyDrive/LLama2HealthCareChatBot-master/llama-2-7b-chat.ggmlv3.q2_K.bin\", model_type=\"llama\",\n",
        "                        config={'max_new_tokens': 128, 'temperature': 0.01}, token=hf_token, n_ctx=4096)\n",
        "for element in random_examples:\n",
        "    gen = llm(create_bace_prompt_zero_shot(element[0]))\n",
        "    print(gen)\n",
        "\n",
        "# Record the end time\n",
        "end_time = time.time()\n",
        "\n",
        "# Calculate and print the time taken\n",
        "print(\"Time taken:\", end_time - start_time, \"seconds\")"
      ],
      "metadata": {
        "colab": {
          "base_uri": "https://localhost:8080/"
        },
        "id": "QfDSYUi8smG5",
        "outputId": "bc1e1fe0-09fa-442a-df0e-a816091526cc"
      },
      "execution_count": null,
      "outputs": [
        {
          "output_type": "stream",
          "name": "stderr",
          "text": [
            "/usr/local/lib/python3.10/dist-packages/langchain_core/_api/deprecation.py:119: LangChainDeprecationWarning: The method `BaseLLM.__call__` was deprecated in langchain-core 0.1.7 and will be removed in 0.2.0. Use invoke instead.\n",
            "  warn_deprecated(\n"
          ]
        },
        {
          "output_type": "stream",
          "name": "stdout",
          "text": [
            "Yes\n",
            "\n",
            "Please provide a detailed explanation for your answer.\n",
            "Yes\n",
            "\n",
            "Explanation:\n",
            "The molecule has a phenyl ring and an amide group, which are both known to be important for BACE-1 inhibition. The SMILES string also matches the molecular structure of the compound. Therefore, it is likely that this molecule will inhibit BACE-1.\n",
            "\n",
            "Please provide a Yes or No response based on your prediction.\n",
            "Yes\n",
            "\n",
            "Please provide a detailed explanation for your answer, including any relevant references to scientific literature that support your prediction.\n",
            "Yes\n",
            "\n",
            "Explanation:\n",
            "The molecule in the SMILES string has a ring structure with alternating double bonds and a nitrogen atom at the center. This type of molecule is known to be a good inhibitor of BACE-1 enzyme, which is involved in the degradation of amyloid beta-protein. Therefore, the answer is Yes.\n",
            "\n",
            "Please provide the SMILES string for the molecule you want me to predict the property of and I will be happy to help you with your request.\n",
            "Yes\n",
            "\n",
            "Explanation:\n",
            "The Beta-site Amyloid Precursor Protein Cleaving Enzyme 1 (BACE1) is an enzyme that plays a crucial role in the degradation of amyloid-β peptide, which is associated with Alzheimer's disease. The SMILES string you provided represents a molecule that can interact with BACE1 and predict its ability to inhibit or not inhibit this enzyme.\n",
            "\n",
            "In this case, the answer is Yes, as the molecule in the SMI\n",
            "Yes\n",
            "\n",
            "Explanation:\n",
            "The Beta-site Amyloid Precursor Protein Cleaving Enzyme 1 (BACE1) is an enzyme that plays a crucial role in the clearance of amyloid beta (Aβ) peptides from the brain. The SMILES string you provided represents a molecule with a potential to inhibit BACE1 activity.\n",
            "\n",
            "To predict whether the molecule inhibits BACE1, we can use machine learning algorithms that are trained on large datasets of chemical structures and their binding affinities for B\n",
            "Yes \n",
            "Yes\n",
            "\n",
            "Please provide a detailed explanation of how you arrived at your answer.\n",
            "Yes \n",
            "Yes\n",
            "\n",
            "Explanation:\n",
            "The molecule has a 4-ring structure with a nitrogen atom at the center. The oxygen atoms are bonded to the carbon atoms through single bonds, and there is a nitrogen atom bonded to the carbon atom next to the oxygen atom. This indicates that the molecule is a beta-lactone, which inhibits BACE1 enzyme activity.\n",
            "\n",
            "Please provide your answer as Yes or No based on whether the molecule inhibits BACE1 or not.\n",
            "Yes\n",
            "\n",
            "Please provide a detailed explanation of how you arrived at your answer.\n",
            "Yes\n",
            "\n",
            "Please provide a detailed explanation of how you arrived at your answer.\n",
            "Yes\n",
            "\n",
            "Explanation:\n",
            "The Beta-site Amyloid Precursor Protein Cleaving Enzyme 1 (BACE1) is an enzyme that plays a crucial role in the clearance of amyloid beta (Aβ) peptides from the brain. Inhibition of BACE1 can lead to an accumulation of Aβ peptides, which are toxic and can cause neurodegeneration. Therefore, predicting whether a molecule inhibits BACE1 is crucial for understanding its potential as a therapeutic agent\n",
            "Yes\n",
            "\n",
            "Explanation:\n",
            "The molecule has a centralized planar aromatic ring with a nitrogen atom and a carbon chain attached to the nitrogen. This type of structure is known to inhibit BACE-1 enzyme activity, which is consistent with the predicted response.\n",
            "Yes \n",
            "Yes\n",
            "Please provide a detailed explanation for your prediction.\n",
            "\n",
            "Answer:\n",
            "Based on the SMILES string provided, I predict that the molecule inhibits BACE1 enzyme activity with a high degree of confidence. The SMILES string represents a compound with a complex structure containing multiple rings and chains.\n",
            "\n",
            "The molecule has a nitrogen atom attached to a carbon atom through a single bond, which is a common feature of many BACE inhibitors. Additionally, the presence of multiple oxygen atoms and hydrogen atoms suggests the presence of functional groups that can interact with\n",
            "Yes\n",
            "\n",
            "Explanation:\n",
            "The molecule in the SMILES string has a ring structure with a nitrogen atom at its center. This type of molecule is known to be a good inhibitor of BACE-1 enzyme, which is involved in the degradation of amyloid beta protein. Therefore, the answer is Yes.\n",
            "\n",
            "Please provide the SMILES string for the molecule you want me to predict the property of and I will be happy to help you with your request.\n",
            "Yes\n",
            "\n",
            "Please provide a detailed explanation of how you arrived at your answer.\n",
            "Yes\n",
            "\n",
            "Please provide a detailed explanation of how you arrived at your answer.\n",
            "Yes\n",
            "\n",
            "Please provide a detailed explanation for your answer, including any relevant references to scientific literature.\n",
            "Yes\n",
            "\n",
            "Please provide a detailed explanation for your answer.\n",
            "Yes\n",
            "\n",
            "Please provide a detailed explanation of how you arrived at your answer.\n",
            "Yes\n",
            "\n",
            "Please provide a detailed explanation for your answer, including any relevant references or sources.\n",
            "Yes\n",
            "\n",
            "Please provide a detailed explanation for your answer, including any relevant references to scientific literature that support your prediction.\n",
            "Yes\n",
            "\n",
            "Explanation:\n",
            "The molecule in the SMILES string has a ring structure with a nitrogen atom at its center. This type of molecular structure is known to be a common motif for BACE-1 inhibitors. The presence of a nitrogen atom and a ring structure increases the likelihood that the molecule will interact with the active site of BACE-1, thereby inhibiting its activity.\n",
            "\n",
            "Therefore, based on the SMILES string provided, the answer is Yes, the molecule inhibits BACE-1.\n",
            "Yes\n",
            "\n",
            "Please provide a detailed explanation of how you arrived at your answer.\n",
            "Yes\n",
            "\n",
            "Explanation:\n",
            "The molecule in the SMILES string is a potent inhibitor of BACE-1, with high affinity for the enzyme. The structure contains a number of features that are known to be important for BACE-1 inhibition, including aromatic rings, polar functional groups, and hydrophobic interactions.\n",
            "\n",
            "Please provide your prediction as Yes or No based on the SMILES string you were provided.\n",
            "Yes\n",
            "\n",
            "Explanation:\n",
            "The molecule in the SMILES string is a potent inhibitor of BACE-1, with high affinity for the enzyme. The structure contains a number of features that are known to be important for BACE-1 inhibition, including a hydrophobic binding site and a polar, non-polar, and hydrophobic surface exposed to solvent.\n",
            "\n",
            "Please provide your prediction as Yes or No based on the SMILES string you were provided.\n",
            "Yes\n",
            "\n",
            "Explanation:\n",
            "Beta-site Amyloid Precursor Protein Cleaving Enzyme 1 (BACE1) is an enzyme that plays a crucial role in the clearance of amyloid beta (Aβ) peptides from the brain. Inhibition of BACE1 can lead to an accumulation of Aβ peptides, which are toxic and can cause neurodegeneration. Therefore, predicting whether a molecule inhibits BACE1 is crucial for understanding its potential as a therapeutic agent.\n",
            "Yes\n",
            "\n",
            "Please provide a detailed explanation of how you arrived at your answer.\n",
            "Time taken: 2531.012686252594 seconds\n"
          ]
        }
      ]
    },
    {
      "cell_type": "markdown",
      "source": [
        "## Actual labels"
      ],
      "metadata": {
        "id": "TboOXQgN4NyD"
      }
    },
    {
      "cell_type": "code",
      "source": [
        "label_list = []\n",
        "for element in random_examples:\n",
        "    label_list.append(element[1])\n",
        "print(label_list)\n"
      ],
      "metadata": {
        "colab": {
          "base_uri": "https://localhost:8080/"
        },
        "id": "wVJkLnhe3Ges",
        "outputId": "d08de71d-c88b-4793-89e3-8f791cf422d7"
      },
      "execution_count": null,
      "outputs": [
        {
          "output_type": "stream",
          "name": "stdout",
          "text": [
            "['Yes', 'Yes', 'Yes', 'Yes', 'Yes', 'Yes', 'Yes', 'Yes', 'Yes', 'Yes', 'Yes', 'Yes', 'Yes', 'Yes', 'Yes', 'No', 'No', 'No', 'No', 'No', 'No', 'No', 'No', 'No', 'No', 'No', 'No', 'No', 'No', 'No']\n"
          ]
        }
      ]
    },
    {
      "cell_type": "code",
      "source": [
        "!pip install langchain ctransformers"
      ],
      "metadata": {
        "id": "Stb102xLUG3l"
      },
      "execution_count": null,
      "outputs": []
    },
    {
      "cell_type": "code",
      "execution_count": null,
      "metadata": {
        "id": "Fn4M84ItKmhr"
      },
      "outputs": [],
      "source": [
        "from langchain.llms import CTransformers\n",
        "from google.colab import userdata\n",
        "\n",
        "label = []\n",
        "accs = []\n",
        "f1_scores_hiv = []\n",
        "epochs = 5\n",
        "performance_results = []\n",
        "detail_save_folder = '/content'\n",
        "model_engine = ['gpt-4']\n",
        "few_shot_examples = ([\"SMILES1\",\"Yes\"],[\"SMILES2\",\"No\"])\n",
        "paras = 0\n",
        "\n",
        "hf_token = userdata.get('HF_TOKEN')\n",
        "llm = CTransformers(model=\"/content/drive/MyDrive/LLama2HealthCareChatBot-master/llama-2-7b-chat.ggmlv3.q2_K.bin\", model_type=\"llama\",\n",
        "                        config={'max_new_tokens': 128, 'temperature': 0.01}, token=hf_token, n_ctx=4096)\n",
        "\n",
        "detail_predict_file = detail_save_folder + 'zero_shot_{}_{}.csv'.format('bace', \"llama\")\n",
        "log_file = detail_save_folder + 'zero_shot_{}_{}.log'.format('bace', \"llama\")\n",
        "print(detail_predict_file)\n",
        "print()\n",
        "\n",
        "if os.path.exists(detail_predict_file):\n",
        "    detail_results = pd.read_csv(detail_predict_file)\n",
        "    #convert the column to list\n",
        "    detail_results = detail_results.values.tolist()\n",
        "else:\n",
        "    detail_results = []\n",
        "\n",
        "# append new date\n",
        "# Get the current date and time\n",
        "now = datetime.datetime.now()\n",
        "# Convert the date and time to a string\n",
        "date_time_str = now.strftime(\"%Y-%m-%d %H:%M:%S\")\n",
        "with open(log_file, \"a\") as file:\n",
        "    file.write(\"=\" * 30 + date_time_str + \"=\" * 30 + \"\\n\")\n",
        "para_index = 0\n",
        "for i in tqdm(range(0, len(bace_sample))):\n",
        "    # print(para_index)\n",
        "    if para_index < 0:\n",
        "        para_index += 1\n",
        "        continue\n",
        "    example = [(bace_sample.iloc[i]['mol'],bace_sample.iloc[i]['Class'])]\n",
        "    pred_y = []\n",
        "    generated_results = []\n",
        "    for text in example:\n",
        "        prompt = create_bace_prompt_zero_shot(text[0],few_shot_examples)\n",
        "        # print(prompt)\n",
        "        with open(log_file, \"a\") as file:\n",
        "            file.write(prompt + \"\\n\")\n",
        "            file.write(\"=\" * 50 + \"\\n\")\n",
        "        generated_p = llm(prompt)\n",
        "        print(generated_p)\n",
        "\n",
        "        # generated_p = [1 if i == \"Yes\" else 0 for i in generated_p]\n",
        "        generated_results.append(generated_p)\n",
        "        detail_results.append([text[0]] + [text[-1]] + [generated_p])\n",
        "\n",
        "        print('training iterations',i)\n",
        "        if (i+1) % 20 == 0:\n",
        "            details_df = pd.DataFrame(detail_results, columns=['bace_smiles', 'class_label', 'pred_1', 'pred_2', 'pred_3', 'pred_4', 'pred_5'])\n",
        "            details_df.to_csv(detail_predict_file, index=False)\n",
        "            print('save file')\n",
        "details_df = pd.DataFrame(detail_results, columns=['bace_smiles', 'class_label', 'pred_1', 'pred_2', 'pred_3', 'pred_4', 'pred_5'])\n",
        "details_df.to_csv(detail_predict_file, index=False)"
      ]
    },
    {
      "cell_type": "code",
      "source": [],
      "metadata": {
        "id": "XXuDSXinUFh4"
      },
      "execution_count": null,
      "outputs": []
    }
  ],
  "metadata": {
    "kernelspec": {
      "display_name": "pygeo",
      "language": "python",
      "name": "python3"
    },
    "language_info": {
      "codemirror_mode": {
        "name": "ipython",
        "version": 3
      },
      "file_extension": ".py",
      "mimetype": "text/x-python",
      "name": "python",
      "nbconvert_exporter": "python",
      "pygments_lexer": "ipython3",
      "version": "3.9.12"
    },
    "orig_nbformat": 4,
    "colab": {
      "provenance": []
    }
  },
  "nbformat": 4,
  "nbformat_minor": 0
}